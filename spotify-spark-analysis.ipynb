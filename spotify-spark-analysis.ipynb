{
 "cells": [
  {
   "cell_type": "markdown",
   "metadata": {},
   "source": [
    "# Analiza Spotify Podataka - Projekat 2 - Osnovi operativnih sistema"
   ]
  },
  {
   "cell_type": "markdown",
   "metadata": {},
   "source": [
    "## Uvod\n",
    "\n",
    "Ovaj projektni zadatak ima za cilj analizu Spotify skupa podataka koristeći Spark DataFrame API.\n",
    "\n",
    "### Pokretanje projekta\n",
    "\n",
    "Za pokretanje ovog projekta potrebno je imati instaliran Python 3.12.3, Apache Spark, kao i biblioteke navedene ispod, kako bi se osiguralo da radi sve kao kod mene. Takodje, zbog problema sa pysparkom na windowsu, preporučuje se instalacija WSL-a, te pokretanje VSC u virtuelnom okruženju.\n",
    "\n",
    "### Instalacija Spotify skupa podataka \n",
    "\n",
    "Da bi instalirali skup podataka na kojem se vrši analiza, pratiti upute sa linka: [Spotify skup podataka](https://www.kaggle.com/datasets/maharshipandya/-spotify-tracks-dataset)\n",
    "\n",
    "### Instalacija potrebnih biblioteka\n",
    "\n",
    "Za pokretanje ovog projekta, potrebno je instalirati sledeće biblioteke (dostupne putem pip):\n",
    "\n",
    "- `pyspark`\n",
    "- `pandas`\n",
    "\n",
    "Možete instalirati ove biblioteke koristeći sledeću komandu u CMD-u:\n",
    "\n",
    "```bash\n",
    "pip install pyspark pandas\n",
    "\n",
    "_______________________________________________________________________________________________________________________________________________________"
   ]
  },
  {
   "cell_type": "markdown",
   "metadata": {},
   "source": [
    "## Učitavanje biblioteka i skupa podataka"
   ]
  },
  {
   "cell_type": "code",
   "execution_count": 1,
   "metadata": {},
   "outputs": [],
   "source": [
    "import pandas as pd\n",
    "from itertools import combinations\n",
    "from pyspark.sql import SparkSession\n",
    "from pyspark.sql import functions as F\n",
    "from pyspark.sql.types import (\n",
    "    StructType,\n",
    "    StructField,\n",
    "    StringType,\n",
    "    BooleanType,\n",
    "    LongType,\n",
    "    DoubleType,\n",
    "    ArrayType\n",
    ")"
   ]
  },
  {
   "cell_type": "code",
   "execution_count": 2,
   "metadata": {},
   "outputs": [
    {
     "name": "stderr",
     "output_type": "stream",
     "text": [
      "your 131072x1 screen size is bogus. expect trouble\n",
      "25/03/19 23:18:18 WARN Utils: Your hostname, DESKTOP-0THU24A resolves to a loopback address: 127.0.1.1; using 172.31.14.97 instead (on interface eth0)\n",
      "25/03/19 23:18:18 WARN Utils: Set SPARK_LOCAL_IP if you need to bind to another address\n",
      "Setting default log level to \"WARN\".\n",
      "To adjust logging level use sc.setLogLevel(newLevel). For SparkR, use setLogLevel(newLevel).\n",
      "25/03/19 23:18:20 WARN NativeCodeLoader: Unable to load native-hadoop library for your platform... using builtin-java classes where applicable\n"
     ]
    }
   ],
   "source": [
    "spark = SparkSession.builder.appName(\"Analiza Spotify Podataka - Projekat2 OPOS\").getOrCreate()\n",
    "\n",
    "# Radi bolje preglednosti nakon ovog bloka se neće ispisivati WARN poruke kojih je puno, nego samo ERRORI\n",
    "spark.sparkContext.setLogLevel(\"ERROR\")"
   ]
  },
  {
   "cell_type": "markdown",
   "metadata": {},
   "source": [
    "Provjera tipa podataka uz pomoć pandas biblioteke, isto se moglo uraditi i sa pysparkom prilikom učitavanja CSV-a sa inferSchema=True, pa onda printSchema, ali ovo mi je dalo preciznije rezultate."
   ]
  },
  {
   "cell_type": "code",
   "execution_count": 3,
   "metadata": {},
   "outputs": [
    {
     "data": {
      "text/plain": [
       "((114000, 21),\n",
       " Unnamed: 0            int64\n",
       " track_id             object\n",
       " artists              object\n",
       " album_name           object\n",
       " track_name           object\n",
       " popularity            int64\n",
       " duration_ms           int64\n",
       " explicit               bool\n",
       " danceability        float64\n",
       " energy              float64\n",
       " key                   int64\n",
       " loudness            float64\n",
       " mode                  int64\n",
       " speechiness         float64\n",
       " acousticness        float64\n",
       " instrumentalness    float64\n",
       " liveness            float64\n",
       " valence             float64\n",
       " tempo               float64\n",
       " time_signature        int64\n",
       " track_genre          object\n",
       " dtype: object)"
      ]
     },
     "execution_count": 3,
     "metadata": {},
     "output_type": "execute_result"
    }
   ],
   "source": [
    "df_pd = pd.read_csv('datasets/spotify.csv')\n",
    "\n",
    "# Broj redova i kolona, kao i tipovi podataka za kolone\n",
    "df_pd.shape,df_pd.dtypes   "
   ]
  },
  {
   "cell_type": "markdown",
   "metadata": {},
   "source": [
    "Definisanje tačne šeme podataka na osnovu informacija iznad i učitavanje skupa podataka"
   ]
  },
  {
   "cell_type": "code",
   "execution_count": 4,
   "metadata": {},
   "outputs": [],
   "source": [
    "schema = StructType([\n",
    "    StructField(\"\", LongType(), True),  # Redni broj, nije potreban za ovu analizu\n",
    "    StructField(\"track_id\", StringType(), True),\n",
    "    StructField(\"artists\", StringType(), True),\n",
    "    StructField(\"album_name\", StringType(), True),\n",
    "    StructField(\"track_name\", StringType(), True),\n",
    "    StructField(\"popularity\", LongType(), True),  \n",
    "    StructField(\"duration_ms\", LongType(), True),  \n",
    "    StructField(\"explicit\", BooleanType(), True),\n",
    "    StructField(\"danceability\", DoubleType(), True),\n",
    "    StructField(\"energy\", DoubleType(), True),\n",
    "    StructField(\"key\", LongType(), True),  \n",
    "    StructField(\"loudness\", DoubleType(), True),\n",
    "    StructField(\"mode\", LongType(), True),  \n",
    "    StructField(\"speechiness\", DoubleType(), True),\n",
    "    StructField(\"acousticness\", DoubleType(), True),\n",
    "    StructField(\"instrumentalness\", DoubleType(), True),\n",
    "    StructField(\"liveness\", DoubleType(), True),\n",
    "    StructField(\"valence\", DoubleType(), True),\n",
    "    StructField(\"tempo\", DoubleType(), True),\n",
    "    StructField(\"time_signature\", LongType(), True),  \n",
    "    StructField(\"track_genre\", StringType(), True)\n",
    "])\n",
    "\n",
    "# Kod imena pjesme i albuma detektovao zareze, pa izbacivao da je neki broj zanr ili slicno\n",
    "# Chatgpt kod help:\n",
    "df = spark.read.option(\"quote\", \"\\\"\").option(\"escape\", \"\\\"\").csv(\"datasets/spotify.csv\", header=True, schema=schema)"
   ]
  },
  {
   "cell_type": "markdown",
   "metadata": {},
   "source": [
    "Validacija učitanih podataka"
   ]
  },
  {
   "cell_type": "code",
   "execution_count": 5,
   "metadata": {},
   "outputs": [
    {
     "name": "stderr",
     "output_type": "stream",
     "text": [
      "                                                                                \r"
     ]
    },
    {
     "name": "stdout",
     "output_type": "stream",
     "text": [
      "Broj redova i kolona: 114000, 21\n",
      "root\n",
      " |-- : long (nullable = true)\n",
      " |-- track_id: string (nullable = true)\n",
      " |-- artists: string (nullable = true)\n",
      " |-- album_name: string (nullable = true)\n",
      " |-- track_name: string (nullable = true)\n",
      " |-- popularity: long (nullable = true)\n",
      " |-- duration_ms: long (nullable = true)\n",
      " |-- explicit: boolean (nullable = true)\n",
      " |-- danceability: double (nullable = true)\n",
      " |-- energy: double (nullable = true)\n",
      " |-- key: long (nullable = true)\n",
      " |-- loudness: double (nullable = true)\n",
      " |-- mode: long (nullable = true)\n",
      " |-- speechiness: double (nullable = true)\n",
      " |-- acousticness: double (nullable = true)\n",
      " |-- instrumentalness: double (nullable = true)\n",
      " |-- liveness: double (nullable = true)\n",
      " |-- valence: double (nullable = true)\n",
      " |-- tempo: double (nullable = true)\n",
      " |-- time_signature: long (nullable = true)\n",
      " |-- track_genre: string (nullable = true)\n",
      "\n",
      "+---+--------------------+--------------------+--------------------+--------------------+----------+-----------+--------+------------+------+---+--------+----+-----------+------------+----------------+--------+-------+-------+--------------+-----------+\n",
      "|   |            track_id|             artists|          album_name|          track_name|popularity|duration_ms|explicit|danceability|energy|key|loudness|mode|speechiness|acousticness|instrumentalness|liveness|valence|  tempo|time_signature|track_genre|\n",
      "+---+--------------------+--------------------+--------------------+--------------------+----------+-----------+--------+------------+------+---+--------+----+-----------+------------+----------------+--------+-------+-------+--------------+-----------+\n",
      "|  0|5SuOikwiRyPMVoIQD...|         Gen Hoshino|              Comedy|              Comedy|        73|     230666|   false|       0.676| 0.461|  1|  -6.746|   0|      0.143|      0.0322|         1.01E-6|   0.358|  0.715| 87.917|             4|   acoustic|\n",
      "|  1|4qPNDBW1i3p13qLCt...|        Ben Woodward|    Ghost (Acoustic)|    Ghost - Acoustic|        55|     149610|   false|        0.42| 0.166|  1| -17.235|   1|     0.0763|       0.924|         5.56E-6|   0.101|  0.267| 77.489|             4|   acoustic|\n",
      "|  2|1iJBSr7s7jYXzM8EG...|Ingrid Michaelson...|      To Begin Again|      To Begin Again|        57|     210826|   false|       0.438| 0.359|  0|  -9.734|   1|     0.0557|        0.21|             0.0|   0.117|   0.12| 76.332|             4|   acoustic|\n",
      "|  3|6lfxq3CG4xtTiEg7o...|        Kina Grannis|Crazy Rich Asians...|Can't Help Fallin...|        71|     201933|   false|       0.266|0.0596|  0| -18.515|   1|     0.0363|       0.905|         7.07E-5|   0.132|  0.143| 181.74|             3|   acoustic|\n",
      "|  4|5vjLSffimiIP26QG5...|    Chord Overstreet|             Hold On|             Hold On|        82|     198853|   false|       0.618| 0.443|  2|  -9.681|   1|     0.0526|       0.469|             0.0|  0.0829|  0.167|119.949|             4|   acoustic|\n",
      "|  5|01MVOl9KtVTNfFiBU...|        Tyrone Wells|Days I Will Remember|Days I Will Remember|        58|     214240|   false|       0.688| 0.481|  6|  -8.807|   1|      0.105|       0.289|             0.0|   0.189|  0.666| 98.017|             4|   acoustic|\n",
      "|  6|6Vc5wAMmXdKIAM7WU...|A Great Big World...|Is There Anybody ...|       Say Something|        74|     229400|   false|       0.407| 0.147|  2|  -8.822|   1|     0.0355|       0.857|         2.89E-6|  0.0913| 0.0765|141.284|             3|   acoustic|\n",
      "|  7|1EzrEOXmMH3G43AXT...|          Jason Mraz|We Sing. We Dance...|           I'm Yours|        80|     242946|   false|       0.703| 0.444| 11|  -9.331|   1|     0.0417|       0.559|             0.0|  0.0973|  0.712| 150.96|             4|   acoustic|\n",
      "|  8|0IktbUcnAGrvD03AW...|Jason Mraz;Colbie...|We Sing. We Dance...|               Lucky|        74|     189613|   false|       0.625| 0.414|  0|    -8.7|   1|     0.0369|       0.294|             0.0|   0.151|  0.669|130.088|             4|   acoustic|\n",
      "|  9|7k9GuJYLp2AzqokyE...|      Ross Copperman|              Hunger|              Hunger|        56|     205594|   false|       0.442| 0.632|  1|   -6.77|   1|     0.0295|       0.426|         0.00419|  0.0735|  0.196| 78.899|             4|   acoustic|\n",
      "+---+--------------------+--------------------+--------------------+--------------------+----------+-----------+--------+------------+------+---+--------+----+-----------+------------+----------------+--------+-------+-------+--------------+-----------+\n",
      "only showing top 10 rows\n",
      "\n"
     ]
    }
   ],
   "source": [
    "print(f\"Broj redova i kolona: {df.count()}, {len(df.columns)}\")\n",
    "df.printSchema()\n",
    "df.show(10)"
   ]
  },
  {
   "cell_type": "markdown",
   "metadata": {},
   "source": [
    "## Analiza distribucije podataka"
   ]
  },
  {
   "cell_type": "markdown",
   "metadata": {},
   "source": [
    "Analiza distribucije numerickih kolona"
   ]
  },
  {
   "cell_type": "code",
   "execution_count": null,
   "metadata": {},
   "outputs": [
    {
     "name": "stderr",
     "output_type": "stream",
     "text": [
      "                                                                                \r"
     ]
    },
    {
     "name": "stdout",
     "output_type": "stream",
     "text": [
      "+-------+-----------------+-----------------+------------------+-------------------+------------------+-----------------+------------------+-------------------+-------------------+-------------------+-------------------+-------------------+------------------+-------------------+\n",
      "|summary|                 |       popularity|       duration_ms|       danceability|            energy|              key|          loudness|        speechiness|       acousticness|   instrumentalness|           liveness|            valence|             tempo|     time_signature|\n",
      "+-------+-----------------+-----------------+------------------+-------------------+------------------+-----------------+------------------+-------------------+-------------------+-------------------+-------------------+-------------------+------------------+-------------------+\n",
      "|  count|           114000|           114000|            114000|             114000|            114000|           114000|            114000|             114000|             114000|             114000|             114000|             114000|            114000|             114000|\n",
      "|   mean|          56999.5| 33.2385350877193|228029.15311403509| 0.5668000657894775|0.6413827583964903|5.309140350877193|-8.258960368421063|0.08465211228070185|0.31491006248000164|0.15604958922122864|0.21355283605263106|0.47406823097368084|122.14783728947285| 3.9040350877192984|\n",
      "| stddev|32909.10968105944|22.30507849337223|107297.71264491322|0.17354217360214516|0.2515290688025411|3.559987124536529| 5.029336645041593| 0.1057323644365129|0.33252270230597164|0.30955484838546893|0.19037769897483023| 0.2592610643835174|29.978196920075817|0.43262084834757925|\n",
      "|    min|                0|                0|                 0|                0.0|               0.0|                0|           -49.531|                0.0|                0.0|                0.0|                0.0|                0.0|               0.0|                  0|\n",
      "|    max|           113999|              100|           5237295|              0.985|               1.0|               11|             4.532|              0.965|              0.996|                1.0|                1.0|              0.995|           243.372|                  5|\n",
      "+-------+-----------------+-----------------+------------------+-------------------+------------------+-----------------+------------------+-------------------+-------------------+-------------------+-------------------+-------------------+------------------+-------------------+\n",
      "\n"
     ]
    },
    {
     "name": "stderr",
     "output_type": "stream",
     "text": [
      "                                                                                \r"
     ]
    }
   ],
   "source": [
    "num_values_distribution=df.select(\n",
    "    [\"\", \"popularity\", \"duration_ms\", \"explicit\", \"danceability\", \"energy\", \"key\", \"loudness\",\n",
    "     \"speechiness\", \"acousticness\", \"instrumentalness\", \"liveness\", \"valence\", \"tempo\", \"time_signature\"]).describe()\n",
    "num_values_distribution.show()\n",
    "num_values_distribution.write.format(\"json\").mode(\"overwrite\").save(\"statistika_number\")"
   ]
  },
  {
   "cell_type": "markdown",
   "metadata": {},
   "source": [
    "Analiza distribucije tekstualnih kolona"
   ]
  },
  {
   "cell_type": "code",
   "execution_count": null,
   "metadata": {},
   "outputs": [
    {
     "name": "stderr",
     "output_type": "stream",
     "text": [
      "                                                                                \r"
     ]
    }
   ],
   "source": [
    "string_columns = [\"track_id\", \"artists\", \"album_name\", \"track_name\", \"track_genre\"]\n",
    "\n",
    "string_stats = {}\n",
    "\n",
    "for column in string_columns:\n",
    "    result = df.groupBy(column).count()\n",
    "    string_stats[column] = result.collect()\n",
    "\n",
    "string_distribution_df = []\n",
    "for column, rows in string_stats.items():\n",
    "    for row in rows:\n",
    "        string_distribution_df.append((column, row[column], row['count']))\n",
    "\n",
    "df_string_distribution = spark.createDataFrame(string_distribution_df, [\"column\", \"value\", \"count\"])\n",
    "df_string_distribution.write.format(\"json\").mode(\"overwrite\").save(\"statistika_string\")"
   ]
  },
  {
   "cell_type": "markdown",
   "metadata": {},
   "source": [
    "## Čišćenje podataka"
   ]
  },
  {
   "cell_type": "code",
   "execution_count": 6,
   "metadata": {},
   "outputs": [
    {
     "name": "stdout",
     "output_type": "stream",
     "text": [
      "Broj redova i kolona: 114000, 20\n"
     ]
    }
   ],
   "source": [
    "# Brisanje nepotrebne kolone za redni broj, radi optimizacije\n",
    "df=df.drop(\"\")\n",
    "print(f\"Broj redova i kolona: {df.count()}, {len(df.columns)}\")\n",
    "# Broj kolona je sad za 1 manji u odnosu na početak kad je bilo 21 kolona"
   ]
  },
  {
   "cell_type": "code",
   "execution_count": 7,
   "metadata": {},
   "outputs": [
    {
     "name": "stderr",
     "output_type": "stream",
     "text": [
      "[Stage 7:=============================>                             (2 + 2) / 4]\r"
     ]
    },
    {
     "name": "stdout",
     "output_type": "stream",
     "text": [
      "Broj redova i kolona: 89741, 20\n"
     ]
    },
    {
     "name": "stderr",
     "output_type": "stream",
     "text": [
      "                                                                                \r"
     ]
    }
   ],
   "source": [
    "# Iz analize distribucije sam zaključio da postoje pjesme duplikati, tj. dupli track_id redovi,\n",
    "# njih ću obrisati i zadržati samo prvo pojavljivanje pjesme, radi bolje i jednake analize\n",
    "df = df.dropDuplicates([\"track_id\"])\n",
    "print(f\"Broj redova i kolona: {df.count()}, {len(df.columns)}\")\n",
    "# Broj redova je sad manji za oko 24000, tako da će se sa ovim ubrzati analiza za 20%"
   ]
  },
  {
   "cell_type": "code",
   "execution_count": 8,
   "metadata": {},
   "outputs": [
    {
     "name": "stderr",
     "output_type": "stream",
     "text": [
      "[Stage 15:===========================================>              (3 + 1) / 4]\r"
     ]
    },
    {
     "name": "stdout",
     "output_type": "stream",
     "text": [
      "Broj redova i kolona: 89740, 20\n"
     ]
    },
    {
     "name": "stderr",
     "output_type": "stream",
     "text": [
      "                                                                                \r"
     ]
    }
   ],
   "source": [
    "# Izbacivanje redova koji nemaju neku od vrijednosti, tj. neka kolona im je prazna, ukoliko postoje\n",
    "df = df.na.drop()\n",
    "print(f\"Broj redova i kolona: {df.count()}, {len(df.columns)}\")\n",
    "# Iz ispisa se vidi da je broj redova za 1 manji, tako da je jedan red sadržavao neku NULL vrijednost\n",
    "# Taj red sam izbacio da se ne zezne račun poslije na osnovu ovog reda"
   ]
  },
  {
   "cell_type": "code",
   "execution_count": 9,
   "metadata": {},
   "outputs": [
    {
     "name": "stderr",
     "output_type": "stream",
     "text": [
      "[Stage 21:>                                                         (0 + 4) / 4]\r"
     ]
    },
    {
     "name": "stdout",
     "output_type": "stream",
     "text": [
      "+-----------------+\n",
      "|track_genre      |\n",
      "+-----------------+\n",
      "|anime            |\n",
      "|singer-songwriter|\n",
      "|folk             |\n",
      "|hardstyle        |\n",
      "|pop              |\n",
      "|alternative      |\n",
      "|death-metal      |\n",
      "|detroit-techno   |\n",
      "|idm              |\n",
      "|k-pop            |\n",
      "|j-dance          |\n",
      "|ambient          |\n",
      "|guitar           |\n",
      "|goth             |\n",
      "|cantopop         |\n",
      "|blues            |\n",
      "|study            |\n",
      "|malay            |\n",
      "|dance            |\n",
      "|breakbeat        |\n",
      "+-----------------+\n",
      "only showing top 20 rows\n",
      "\n"
     ]
    },
    {
     "name": "stderr",
     "output_type": "stream",
     "text": [
      "                                                                                \r"
     ]
    }
   ],
   "source": [
    "# Provjera da li se ucitava dobro sve, jer je track genre bio nekad broj, ali poslije ucitavanja ispravnog je dobro sad\n",
    "df.select(\"track_genre\").distinct().show(truncate=False)\n"
   ]
  },
  {
   "cell_type": "markdown",
   "metadata": {},
   "source": [
    "## #1\n",
    "\n",
    "Identifikovati 10 najčešćih kolaboracija između umjetnika (dva ili više umjetnika koji nastupaju zajedno na pjesmi) i izračunajte prosječnu popularnost njihovih pesama. Za prosječnu razliku popularnosti solo pjesama manje popularnog izvođača i prosječne popularnosti kolaboracije."
   ]
  },
  {
   "cell_type": "code",
   "execution_count": 12,
   "metadata": {},
   "outputs": [
    {
     "name": "stderr",
     "output_type": "stream",
     "text": [
      "                                                                                \r"
     ]
    },
    {
     "name": "stdout",
     "output_type": "stream",
     "text": [
      "+----------------------------------------+-----+------------------+-------------------+---------------------------+---------------------+\n",
      "|artist_pair_names                       |count|avg_popularity    |less_popular_artist|less_popular_avg_popularity|popularity_difference|\n",
      "+----------------------------------------+-----+------------------+-------------------+---------------------------+---------------------+\n",
      "|Bad Bunny & J Balvin                    |131  |14.435114503816793|J Balvin           |7.375                      |7.060114503816793    |\n",
      "|Arijit Singh & Pritam                   |115  |55.18260869565217 |Pritam             |43.0                       |12.18260869565217    |\n",
      "|Drifting Cowboys & Hank Williams        |105  |21.885714285714286|Drifting Cowboys   |0.0                        |21.885714285714286   |\n",
      "|Bad Bunny & Jhayco                      |93   |12.204301075268818|Jhayco             |0.43548387096774194        |11.768817204301076   |\n",
      "|Bad Bunny & Daddy Yankee                |88   |12.238636363636363|Daddy Yankee       |15.214285714285714         |2.97564935064935     |\n",
      "|Danielle Laval & Wolfgang Amadeus Mozart|84   |11.011904761904763|Danielle Laval     |0.0                        |11.011904761904763   |\n",
      "|Anuel AA & Jhayco                       |62   |3.3548387096774195|Jhayco             |0.43548387096774194        |2.9193548387096775   |\n",
      "|Bruno Mars & Silk Sonic                 |59   |2.76271186440678  |Silk Sonic         |0.0                        |2.76271186440678     |\n",
      "|Anderson .Paak & Bruno Mars             |59   |2.76271186440678  |Anderson .Paak     |0.0                        |2.76271186440678     |\n",
      "|Anderson .Paak & Silk Sonic             |59   |2.76271186440678  |Silk Sonic         |0.0                        |2.76271186440678     |\n",
      "+----------------------------------------+-----+------------------+-------------------+---------------------------+---------------------+\n",
      "only showing top 10 rows\n",
      "\n"
     ]
    }
   ],
   "source": [
    "def create_artist_pairs(artists):\n",
    "    if artists is None or len(artists) < 2:  # Provera da li su umetnici prisutni\n",
    "        return []\n",
    "    return [tuple(sorted(comb)) for comb in combinations(artists, 2)]\n",
    "\n",
    "# Razdvajanje umetnika u listu koristeći ';'\n",
    "df_with_artists = df.withColumn(\"artists\", F.split(F.col(\"artists\"), \";\"))\n",
    "\n",
    "# Filtriranje redova sa praznim ili None umetnicima\n",
    "df_with_artists = df_with_artists.filter(F.size(F.col(\"artists\")) > 0)\n",
    "\n",
    "# 1. Filtriramo solo pesme - pesme sa samo jednim umetnikom\n",
    "solo_songs = df_with_artists.filter(F.size(F.col(\"artists\")) == 1)\n",
    "\n",
    "# 2. Izračunavamo prosečnu popularnost za svakog umetnika u solo pesmama\n",
    "solo_avg_popularity = solo_songs.select(F.explode(\"artists\").alias(\"artist\"), \"popularity\") \\\n",
    "    .groupBy(\"artist\") \\\n",
    "    .agg(F.avg(\"popularity\").alias(\"avg_solo_popularity\"))\n",
    "    \n",
    "\n",
    "# UDF za kreiranje parova umetnika\n",
    "create_pairs_udf = F.udf(create_artist_pairs, ArrayType(ArrayType(StringType())))\n",
    "\n",
    "df_with_pairs = df_with_artists.withColumn(\"artist_pairs\", create_pairs_udf(F.col(\"artists\")))\n",
    "    \n",
    "collaboration_count = df_with_pairs.select(F.explode(\"artist_pairs\").alias(\"artist_pair\"), \"popularity\") \\\n",
    "    .groupBy(\"artist_pair\") \\\n",
    "    .agg(F.count(\"artist_pair\").alias(\"count\"), F.avg(\"popularity\").alias(\"avg_popularity\")) \\\n",
    "    .orderBy(F.desc(\"count\"))\n",
    "\n",
    "# 3. Ekstrakcija pojedinačnih umetnika iz parova\n",
    "collab = collaboration_count.withColumn(\"artist1\", F.col(\"artist_pair\")[0]) \\\n",
    "                            .withColumn(\"artist2\", F.col(\"artist_pair\")[1])\n",
    "\n",
    "# 4. Spajanje solo popularnosti za oba umetnika\n",
    "# Pripremite DataFrame za artist1\n",
    "solo_artist1 = solo_avg_popularity.withColumnRenamed(\"artist\", \"artist1\") \\\n",
    "                                  .withColumnRenamed(\"avg_solo_popularity\", \"artist1_solo_popularity\")\n",
    "# Pripremite DataFrame za artist2\n",
    "solo_artist2 = solo_avg_popularity.withColumnRenamed(\"artist\", \"artist2\") \\\n",
    "                                  .withColumnRenamed(\"avg_solo_popularity\", \"artist2_solo_popularity\")\n",
    "\n",
    "# Spojite ih sa tabelom kolaboracija\n",
    "collab_joined = collab.join(solo_artist1, on=\"artist1\", how=\"left\") \\\n",
    "                      .join(solo_artist2, on=\"artist2\", how=\"left\")\n",
    "\n",
    "# 5. Postavljanje vrednosti 0 ako umetnik nema solo pesme\n",
    "collab_with_less = collab_joined.withColumn(\"artist1_solo_popularity\", F.coalesce(F.col(\"artist1_solo_popularity\"), F.lit(0))) \\\n",
    "                                .withColumn(\"artist2_solo_popularity\", F.coalesce(F.col(\"artist2_solo_popularity\"), F.lit(0)))\n",
    "\n",
    "# 6. Određivanje manje popularnog umetnika na osnovu solo popularnosti\n",
    "collab_with_less = collab_with_less.withColumn(\"less_popular_artist\", \n",
    "    F.when(F.col(\"artist1_solo_popularity\") < F.col(\"artist2_solo_popularity\"), F.col(\"artist1\"))\n",
    "     .otherwise(F.col(\"artist2\"))\n",
    ").withColumn(\"less_popular_avg_popularity\", \n",
    "    F.when(F.col(\"artist1_solo_popularity\") < F.col(\"artist2_solo_popularity\"), F.col(\"artist1_solo_popularity\"))\n",
    "     .otherwise(F.col(\"artist2_solo_popularity\"))\n",
    ")\n",
    "\n",
    "# 7. Opcionalno: računanje razlike između prosečne popularnosti kolaboracija i solo popularnosti manje popularnog umetnika\n",
    "collab_with_less = collab_with_less.withColumn(\"popularity_difference\", \n",
    "    F.abs(F.col(\"avg_popularity\") - F.col(\"less_popular_avg_popularity\"))\n",
    ")\n",
    "\n",
    "# 8. Kreiranje čitljivog prikaza imena umetnika u paru\n",
    "collab_with_less = collab_with_less.withColumn(\"artist_pair_names\", \n",
    "    F.concat_ws(\" & \", F.col(\"artist1\"), F.col(\"artist2\"))\n",
    ")\n",
    "\n",
    "# 9. Sortiranje rezultata po broju kolaboracija\n",
    "result = collab_with_less.select(\"artist_pair_names\", \"count\", \"avg_popularity\", \n",
    "                                   \"less_popular_artist\", \"less_popular_avg_popularity\", \"popularity_difference\") \\\n",
    "                          .orderBy(\"count\", ascending=False)\n",
    "\n",
    "# Prikazivanje rezultata\n",
    "result.show(10, truncate=False)\n",
    "\n",
    "#svi sto nemaju solo pjesme postavljeni default na 0 te su oni manje popularni u solo pjesmama\n"
   ]
  },
  {
   "cell_type": "markdown",
   "metadata": {},
   "source": [
    "## #2\n",
    "Pronađite “breakthrough” pjesme (popularnost >80 u albumima u prosjeku <50) i analizirajte razliku\n",
    "njihovih audio karakteristika (energija, plesnost, valencija) u odnosu na prosječne karakteristike u ostalim\n",
    "pjesmama unutar albuma."
   ]
  },
  {
   "cell_type": "code",
   "execution_count": 13,
   "metadata": {},
   "outputs": [
    {
     "name": "stderr",
     "output_type": "stream",
     "text": [
      "                                                                                \r"
     ]
    },
    {
     "name": "stdout",
     "output_type": "stream",
     "text": [
      "+-----------------------------------+-------------+----------+------------------+------------------+-------------------+------+------------+-------+--------------------+---------------------+--------------------+\n",
      "|track_name                         |album_name   |popularity|avg_energy        |avg_danceability  |avg_valence        |energy|danceability|valence|energy_diff         |danceability_diff    |valence_diff        |\n",
      "+-----------------------------------+-------------+----------+------------------+------------------+-------------------+------+------------+-------+--------------------+---------------------+--------------------+\n",
      "|Hold On                            |Hold On      |82        |0.6633333333333333|0.5808333333333332|0.24263333333333334|0.443 |0.618       |0.167  |-0.22033333333333333|0.03716666666666679  |-0.07563333333333333|\n",
      "|Miss You                           |Miss You     |87        |0.6603333333333333|0.5625            |0.2697             |0.742 |0.587       |0.199  |0.08166666666666667 |0.024499999999999966 |-0.07069999999999999|\n",
      "|Lost in the Fire (feat. The Weeknd)|Hyperion     |85        |0.5366666666666666|0.6541666666666667|0.1470916666666667 |0.671 |0.658       |0.166  |0.13433333333333342 |0.0038333333333333552|0.018908333333333305|\n",
      "|Silence                            |Silence      |81        |0.6267416666666666|0.47075           |0.26066666666666666|0.761 |0.52        |0.286  |0.13425833333333337 |0.049250000000000016 |0.02533333333333332 |\n",
      "|Silence                            |Silence      |81        |0.6267416666666666|0.47075           |0.26066666666666666|0.761 |0.52        |0.286  |0.13425833333333337 |0.049250000000000016 |0.02533333333333332 |\n",
      "|My Kind of Woman                   |2            |81        |0.8438181818181818|0.5484545454545455|0.5883636363636364 |0.765 |0.501       |0.46   |-0.07881818181818179|-0.04745454545454553 |-0.1283636363636364 |\n",
      "|Silence                            |Silence      |81        |0.6267416666666666|0.47075           |0.26066666666666666|0.761 |0.52        |0.286  |0.13425833333333337 |0.049250000000000016 |0.02533333333333332 |\n",
      "|Hit 'Em Up - Single Version        |Greatest Hits|81        |0.617720430107527 |0.6278494623655914|0.6903333333333335 |0.844 |0.916       |0.586  |0.226279569892473   |0.2881505376344087   |-0.1043333333333335 |\n",
      "|Silence                            |Silence      |81        |0.6267416666666666|0.47075           |0.26066666666666666|0.761 |0.52        |0.286  |0.13425833333333337 |0.049250000000000016 |0.02533333333333332 |\n",
      "|Young                              |Vibes        |83        |0.7355            |0.6661666666666667|0.5831666666666667 |0.81  |0.498       |0.594  |0.07450000000000001 |-0.1681666666666667  |0.01083333333333325 |\n",
      "+-----------------------------------+-------------+----------+------------------+------------------+-------------------+------+------------+-------+--------------------+---------------------+--------------------+\n",
      "only showing top 10 rows\n",
      "\n"
     ]
    }
   ],
   "source": [
    "\n",
    "\n",
    "\n",
    "# 1. Izračunavamo prosečnu popularnost za svaki album\n",
    "album_avg_popularity = df.groupBy(\"album_name\").agg(F.avg(\"popularity\").alias(\"album_avg_popularity\"))\n",
    "\n",
    "# 2. Filtriramo pesme sa popularnošću > 80\n",
    "breakthrough_songs = df.filter(F.col(\"popularity\") > 80)\n",
    "\n",
    "# 3. Spajamo sa tabelom albuma kako bismo dobili prosečnu popularnost za svaki album\n",
    "breakthrough_songs_with_avg = breakthrough_songs.join(album_avg_popularity, on=\"album_name\")\n",
    "\n",
    "# 4. Filtriramo pesme koje su na albumima sa prosečnom popularnošću < 50\n",
    "breakthrough_songs_filtered = breakthrough_songs_with_avg.filter(F.col(\"album_avg_popularity\") < 50)\n",
    "\n",
    "# 5. Izračunavanje prosečnih karakteristika (energija, plesnost, valencija) za pesme unutar svakog albuma\n",
    "album_audio_features = df.groupBy(\"album_name\") \\\n",
    "    .agg(\n",
    "        F.avg(\"energy\").alias(\"avg_energy\"),\n",
    "        F.avg(\"danceability\").alias(\"avg_danceability\"),\n",
    "        F.avg(\"valence\").alias(\"avg_valence\")\n",
    "    )\n",
    "\n",
    "# 6. Spajanje \"breakthrough\" pesama sa prosečnim audio karakteristikama albuma\n",
    "breakthrough_with_audio_features = breakthrough_songs_filtered.join(album_audio_features, on=\"album_name\")\n",
    "\n",
    "# 7. Izračunavanje razlike u audio karakteristikama između \"breakthrough\" pesama i prosečnih karakteristika albuma\n",
    "breakthrough_with_audio_features = breakthrough_with_audio_features.withColumn(\"energy_diff\", \n",
    "    F.col(\"energy\") - F.col(\"avg_energy\")) \\\n",
    "    .withColumn(\"danceability_diff\", \n",
    "    F.col(\"danceability\") - F.col(\"avg_danceability\")) \\\n",
    "    .withColumn(\"valence_diff\", \n",
    "    F.col(\"valence\") - F.col(\"avg_valence\"))\n",
    "\n",
    "# 8. Prikazivanje rezultata\n",
    "breakthrough_with_audio_features.select(\"track_name\", \"album_name\", \"popularity\", \n",
    "                                        \"avg_energy\", \"avg_danceability\", \"avg_valence\", \n",
    "                                        \"energy\", \"danceability\", \"valence\",\n",
    "                                        \"energy_diff\", \"danceability_diff\", \"valence_diff\") \\\n",
    "    .show(10, truncate=False)\n"
   ]
  },
  {
   "cell_type": "markdown",
   "metadata": {},
   "source": [
    "## #3\n",
    "\n",
    "Za 5 najpopularnijih žanrova, utvrdite da li postoje optimalni rasponi tempa \"sweet spot\" upoređujući\n",
    "prosječnu popularnost pjesama unutar različitih tempa (npr. <100 BPM, 100-120 BPM, >120 BPM)."
   ]
  },
  {
   "cell_type": "code",
   "execution_count": null,
   "metadata": {},
   "outputs": [
    {
     "name": "stderr",
     "output_type": "stream",
     "text": [
      "                                                                                \r"
     ]
    },
    {
     "name": "stdout",
     "output_type": "stream",
     "text": [
      "+-----------+-----------+------------------+\n",
      "|track_genre|bpm_range  |avg_popularity    |\n",
      "+-----------+-----------+------------------+\n",
      "|pop-film   |<100 BPM   |58.56456456456456 |\n",
      "|pop-film   |100-120 BPM|59.86363636363637 |\n",
      "|pop-film   |>120 BPM   |59.51529411764706 |\n",
      "|k-pop      |<100 BPM   |55.255319148936174|\n",
      "|k-pop      |100-120 BPM|55.23076923076923 |\n",
      "|k-pop      |>120 BPM   |58.851528384279476|\n",
      "|chill      |<100 BPM   |53.07871720116618 |\n",
      "|chill      |100-120 BPM|53.78902953586498 |\n",
      "|chill      |>120 BPM   |54.04047619047619 |\n",
      "|sad        |<100 BPM   |50.729559748427675|\n",
      "|sad        |100-120 BPM|55.81818181818182 |\n",
      "|sad        |>120 BPM   |51.87662337662338 |\n",
      "|grunge     |<100 BPM   |46.35748792270532 |\n",
      "|grunge     |100-120 BPM|52.86206896551724 |\n",
      "|grunge     |>120 BPM   |49.60508474576271 |\n",
      "+-----------+-----------+------------------+\n",
      "\n"
     ]
    }
   ],
   "source": [
    "genre_avg_popularity = df.groupBy(\"track_genre\").agg(F.avg(\"popularity\").alias(\"avg_popularity\"))\n",
    "\n",
    "top5_popularity_genres = genre_avg_popularity.orderBy(F.desc(\"avg_popularity\")).limit(5)\n",
    "\n",
    "tempo_range = df.withColumn(\n",
    "    \"tempo_range\",\n",
    "    F.when(F.col(\"tempo\") < 100, \"<100 BPM\") \\\n",
    "    .when(F.col(\"tempo\") > 120, \">120 BPM\") \\\n",
    "    .otherwise(\"100-120 BPM\")\n",
    ")\n",
    "\n",
    "analysis_df = tempo_range.join(top5_popularity_genres.select(\"track_genre\"),on=\"track_genre\",how=\"inner\") \\\n",
    "                         .groupBy(\"track_genre\", \"tempo_range\").agg(F.avg(\"popularity\").alias(\"avg_popularity\"))\n",
    "\n",
    "analysis_df.orderBy(\"track_genre\",\"avg_popularity\").show(truncate=False)"
   ]
  },
  {
   "cell_type": "markdown",
   "metadata": {},
   "source": [
    "## #4\n",
    "Uporedite korelaciju između eksplicitnog sadržaja i popularnosti u različitim žanrovima kako biste\n",
    "utvrdili u kojim je žanrovima eksplicitni sadržaj pozitivan ili negativan faktor za uspjeh pjesme.\n"
   ]
  },
  {
   "cell_type": "code",
   "execution_count": 22,
   "metadata": {},
   "outputs": [
    {
     "name": "stderr",
     "output_type": "stream",
     "text": [
      "                                                                                \r"
     ]
    },
    {
     "name": "stdout",
     "output_type": "stream",
     "text": [
      "+-----------+------------------------------+\n",
      "|track_genre|korelacija_explicit_popularity|\n",
      "+-----------+------------------------------+\n",
      "|soul       |0.3655483270888596            |\n",
      "|house      |0.30992433238428124           |\n",
      "|groove     |0.30458368188166235           |\n",
      "|funk       |0.2981659986401298            |\n",
      "|emo        |0.2811071472943843            |\n",
      "+-----------+------------------------------+\n",
      "only showing top 5 rows\n",
      "\n"
     ]
    },
    {
     "name": "stderr",
     "output_type": "stream",
     "text": [
      "[Stage 127:==============>                                          (1 + 3) / 4]\r"
     ]
    },
    {
     "name": "stdout",
     "output_type": "stream",
     "text": [
      "+-----------+------------------------------+\n",
      "|track_genre|korelacija_explicit_popularity|\n",
      "+-----------+------------------------------+\n",
      "|hip-hop    |-0.38666863266040846          |\n",
      "|french     |-0.23838715445624745          |\n",
      "|indie      |-0.18037233012706097          |\n",
      "|acoustic   |-0.17193264328187755          |\n",
      "|garage     |-0.13750323081098528          |\n",
      "+-----------+------------------------------+\n",
      "only showing top 5 rows\n",
      "\n"
     ]
    },
    {
     "name": "stderr",
     "output_type": "stream",
     "text": [
      "                                                                                \r"
     ]
    }
   ],
   "source": [
    "# Da bi se mogla koristiti F.corr, jer ne moze sa boolean vrijednostima, mora se pretvoriti u brojeve 0 ili 1\n",
    "df_sa_explicit_int = df.withColumn(\"explicit_num\", F.when(F.col(\"explicit\") == True, 1).otherwise(0))\n",
    "\n",
    "rez_korelacije = df_sa_explicit_int.groupBy(\"track_genre\") \\\n",
    "    .agg(\n",
    "        F.corr(\"explicit_num\", \"popularity\").alias(\"korelacija_explicit_popularity\")\n",
    "    )\n",
    "\n",
    "# Dobijao sam neke NULL vrijednosti, vjerovatno kad nema dovoljno podataka za korelaciju, pa da ih izbjegnem u drugoj tabeli dropam NULL vrijednosti\n",
    "rez_korelacije = rez_korelacije.na.drop(subset=[\"korelacija_explicit_popularity\"])\n",
    "\n",
    "rez_korelacije.orderBy(F.desc(\"korelacija_explicit_popularity\")).show(5,truncate=False)\n",
    "rez_korelacije.orderBy(\"korelacija_explicit_popularity\").show(5,truncate=False)"
   ]
  },
  {
   "cell_type": "markdown",
   "metadata": {},
   "source": [
    "## #5\n",
    "Za 10 najdužih pjesama sa visokom ocjenom plesivosti (>0,8), uporedite njihov komercijalni uspjeh\n",
    "(popularnost) sa prosječnom popularnošću pjesama u istom žanru kako biste utvrdili da li duže trajanje\n",
    "utiče na uspjeh."
   ]
  },
  {
   "cell_type": "code",
   "execution_count": 25,
   "metadata": {},
   "outputs": [
    {
     "name": "stderr",
     "output_type": "stream",
     "text": [
      "[Stage 149:==============>                                          (1 + 3) / 4]\r"
     ]
    },
    {
     "name": "stdout",
     "output_type": "stream",
     "text": [
      "+--------------------------------------------+-----------+--------------+----------+--------------------+-------------------+\n",
      "|track_name                                  |duration_ms|track_genre   |popularity|avg_genre_popularity|popularity_razlika |\n",
      "+--------------------------------------------+-----------+--------------+----------+--------------------+-------------------+\n",
      "|House of Om - Mark Farina - Continuous Mix  |4447520    |chicago-house |11        |12.33366733466934   |-1.3336673346693395|\n",
      "|Live In Tokyo - Continuous Mix              |4339826    |chicago-house |11        |12.33366733466934   |-1.3336673346693395|\n",
      "|Greenhouse Construction                     |4334721    |chicago-house |12        |12.33366733466934   |-0.3336673346693395|\n",
      "|Reggae Dancehall Riddim: Nanny Goat         |2308806    |dancehall     |27        |34.95527156549521   |-7.9552715654952095|\n",
      "|Various Mixed KDJ Rarities                  |1025706    |detroit-techno|5         |11.130753138075313  |-6.130753138075313 |\n",
      "|Higher - Steve Silk Hurley Journey To Heaven|828693     |chicago-house |15        |12.33366733466934   |2.6663326653306605 |\n",
      "|Higher - Steve Silk Hurley Journey To Heaven|828693     |chicago-house |7         |12.33366733466934   |-5.3336673346693395|\n",
      "|Psika                                       |816746     |minimal-techno|34        |33.28361581920904   |0.7163841807909606 |\n",
      "|When The Going Is Smooth & Good             |773800     |afrobeat      |17        |24.40740740740741   |-7.407407407407408 |\n",
      "|Falling Up - Theo Parrish 2013 Remaster     |764240     |detroit-techno|11        |11.130753138075313  |-0.1307531380753133|\n",
      "+--------------------------------------------+-----------+--------------+----------+--------------------+-------------------+\n",
      "\n"
     ]
    },
    {
     "name": "stderr",
     "output_type": "stream",
     "text": [
      "                                                                                \r"
     ]
    }
   ],
   "source": [
    "high_danceability_pjesme = df.filter(F.col(\"danceability\") > 0.8)\n",
    "\n",
    "longest_high_danceability_pjesme = high_danceability_pjesme.orderBy(F.desc(\"duration_ms\")).limit(10)\n",
    "\n",
    "genre_avg_popularity = df.groupBy(\"track_genre\").agg(F.avg(\"popularity\").alias(\"avg_genre_popularity\"))\n",
    "\n",
    "longest_songs_with_genre_popularity = longest_high_danceability_pjesme.join(genre_avg_popularity, on=\"track_genre\")\n",
    "\n",
    "res = longest_songs_with_genre_popularity.withColumn(\n",
    "    \"popularity_razlika\", \n",
    "    F.col(\"popularity\") - F.col(\"avg_genre_popularity\")\n",
    ")\n",
    "\n",
    "res.select(\"track_name\", \"duration_ms\", \"track_genre\", \"popularity\", \"avg_genre_popularity\", \"popularity_razlika\") \\\n",
    "    .orderBy(F.desc(\"duration_ms\")).show(truncate=False)"
   ]
  },
  {
   "cell_type": "markdown",
   "metadata": {},
   "source": [
    "## #6\n",
    "Analizirajte da li eksplicitne i neeksplicitne pjesme pokazuju različite obrasce u valentnosti (muzička\n",
    "pozitivnost) i utvrdite da li je ovaj odnos dosljedan na svim razinama popularnosti (posmatrati opsege\n",
    "popularnosti u veličini od 0.1)"
   ]
  },
  {
   "cell_type": "code",
   "execution_count": null,
   "metadata": {},
   "outputs": [
    {
     "name": "stderr",
     "output_type": "stream",
     "text": [
      "[Stage 111:==============>                                          (1 + 3) / 4]\r"
     ]
    },
    {
     "name": "stdout",
     "output_type": "stream",
     "text": [
      "+----------------+--------------------+------------------------+\n",
      "|popularity_range|avg_valence_explicit|avg_valence_non_explicit|\n",
      "+----------------+--------------------+------------------------+\n",
      "|0               |0.5106948996201834  |0.5058986723163853      |\n",
      "|10              |0.3365437125748502  |0.44451661197238884     |\n",
      "|20              |0.44598182825484783 |0.4693521155582299      |\n",
      "|30              |0.4945071213640921  |0.5102801832148774      |\n",
      "|40              |0.48520854037267075 |0.46349948912558503     |\n",
      "|50              |0.44641345740873306 |0.4202858229388501      |\n",
      "|60              |0.4715231364956437  |0.4691525357701096      |\n",
      "|70              |0.5177853288364247  |0.4993048151169111      |\n",
      "|80              |0.49790389105058364 |0.5274767139479906      |\n",
      "|90              |0.43287878787878775 |0.4461253968253968      |\n",
      "|100             |NULL                |0.238                   |\n",
      "+----------------+--------------------+------------------------+\n",
      "\n"
     ]
    },
    {
     "name": "stderr",
     "output_type": "stream",
     "text": [
      "                                                                                \r"
     ]
    }
   ],
   "source": [
    "# Ako sam shvatio dobro treba kreirati po veličini od 0.1*popularnosti_max, jer nema smisla popularnost_range da bude 0-0.1, jer je popularnost int\n",
    "df_popularity_range = df.withColumn(\n",
    "    \"popularity_range\",\n",
    "    (F.col(\"popularity\") / 10).cast(\"int\") * 10  # Kreairanje opsega: 0-10, 10-20, 20-30 itd...\n",
    ")\n",
    "\n",
    "explicit_pjesme = df_popularity_range.filter(F.col(\"explicit\") == True)\n",
    "non_explicit_pjesme = df_popularity_range.filter(F.col(\"explicit\") == False)\n",
    "\n",
    "explicit_valence = explicit_pjesme.groupBy(\"popularity_range\").agg(F.avg(\"valence\").alias(\"avg_valence_explicit\"))\n",
    "\n",
    "non_explicit_valence = non_explicit_pjesme.groupBy(\"popularity_range\").agg(F.avg(\"valence\").alias(\"avg_valence_non_explicit\"))\n",
    "\n",
    "comparison_result = explicit_valence.join(\n",
    "    non_explicit_valence, on=\"popularity_range\", how=\"outer\"\n",
    ")\n",
    "\n",
    "comparison_result = comparison_result.withColumn(\"popularity_range\",F.concat(\n",
    "        F.lit(\"[\"), F.col(\"popularity_range\"),F.lit(\"-\"), F.col(\"popularity_range\").cast(\"int\") + 10, F.lit(\")\")\n",
    "    ))\n",
    "\n",
    "comparison_result.show(truncate=False)"
   ]
  },
  {
   "cell_type": "markdown",
   "metadata": {},
   "source": [
    "## #7\n",
    "\n",
    "Za umjetnike s najdosljednijom popularnošću (najniža standardna devijacija), analizirajte njihovu\n",
    "žanrovsku raznolikost kako biste utvrdili da li je dosljednost povezana sa specijalizacijom za određene\n",
    "žanrove.\n"
   ]
  },
  {
   "cell_type": "code",
   "execution_count": null,
   "metadata": {},
   "outputs": [
    {
     "name": "stderr",
     "output_type": "stream",
     "text": [
      "                                                                                \r"
     ]
    },
    {
     "name": "stdout",
     "output_type": "stream",
     "text": [
      "+----------------------------+-----------------+-----------+\n",
      "|artists                     |stddev_popularity|genre_count|\n",
      "+----------------------------+-----------------+-----------+\n",
      "|Ashley McBryde              |0.0              |1          |\n",
      "|Tasha Cobbs Leonard         |0.0              |1          |\n",
      "|Joy Oladokun                |0.0              |1          |\n",
      "|Jaime Guardia               |0.0              |1          |\n",
      "|Валерий Агафонов            |0.0              |1          |\n",
      "|Lollies                     |0.0              |1          |\n",
      "|Tito \"El Bambino\"           |0.0              |1          |\n",
      "|Krewella;Nucleya            |0.0              |1          |\n",
      "|Las Almas Nuevas            |0.0              |1          |\n",
      "|Elvis Costello;The Imposters|0.0              |1          |\n",
      "+----------------------------+-----------------+-----------+\n",
      "only showing top 10 rows\n",
      "\n"
     ]
    }
   ],
   "source": [
    "artist_stddev_pop = df.groupBy(\"artists\").agg(F.stddev(\"popularity\").alias(\"stddev_popularity\"))\n",
    "\n",
    "artist_genres_cnt = df.groupBy(\"artists\").agg(F.countDistinct(\"track_genre\").alias(\"genre_count\"))\n",
    "\n",
    "artist_stats = artist_stddev_pop.join(artist_genres_cnt, on=\"artists\").filter(F.col(\"stddev_popularity\")>=0)\n",
    "artist_stats=artist_stats.filter(F.col(\"genre_count\")>0) # U slucaju da treba analizirati pjevace sa vise zanrova, jer ovako ima ih sa 1 pjesmom itd\n",
    "\n",
    "artist_stats.select(\"artists\", \"stddev_popularity\", \"genre_count\").orderBy(\"stddev_popularity\").show(10,truncate=False)"
   ]
  },
  {
   "cell_type": "markdown",
   "metadata": {},
   "source": [
    "## #8\n",
    " U žanrovima sa visokim akustičnim i instrumentalnim vrijednostima (>0,8), uporedite njihovu\n",
    "prosječnu popularnost sa vokalno teškim žanrovima kako biste utvrdili da li instrumentalni fokus utiče na\n",
    "komercijalni uspjeh."
   ]
  },
  {
   "cell_type": "markdown",
   "metadata": {},
   "source": [
    "Vokalno teski zanrovi su obrnuto od ovih sa visokim akusticnim i instrumentalnim vrijednostima (vokalno lako zanrovi)"
   ]
  },
  {
   "cell_type": "code",
   "execution_count": null,
   "metadata": {},
   "outputs": [
    {
     "name": "stderr",
     "output_type": "stream",
     "text": [
      "[Stage 181:==========================================>              (3 + 1) / 4]\r"
     ]
    },
    {
     "name": "stdout",
     "output_type": "stream",
     "text": [
      "+-----------------+-------------------------------------+--------------------------------------+\n",
      "|track_genre      |avg_popularnost_vokalno_lakih_zanrova|avg_popularnost_vokalno_teskih_zanrova|\n",
      "+-----------------+-------------------------------------+--------------------------------------+\n",
      "|indie-pop        |76.5                                 |36.43835616438356                     |\n",
      "|emo              |64.0                                 |47.68729641693811                     |\n",
      "|blues            |59.0                                 |41.3343653250774                      |\n",
      "|folk             |56.75                                |36.265116279069765                    |\n",
      "|country          |56.0                                 |15.963302752293577                    |\n",
      "|turkish          |51.4                                 |40.4141689373297                      |\n",
      "|sad              |51.142857142857146                   |52.16352201257862                     |\n",
      "|j-rock           |51.0                                 |36.76237623762376                     |\n",
      "|chill            |49.515151515151516                   |51.982142857142854                    |\n",
      "|garage           |49.5                                 |39.57459677419355                     |\n",
      "|piano            |49.433497536945815                   |43.84659090909091                     |\n",
      "|rockabilly       |48.0                                 |26.135135135135137                    |\n",
      "|anime            |47.16161616161616                    |50.668                                |\n",
      "|indian           |45.6                                 |47.32857142857143                     |\n",
      "|electronic       |45.5                                 |44.95290858725762                     |\n",
      "|singer-songwriter|45.5                                 |41.956989247311824                    |\n",
      "|synth-pop        |45.0                                 |35.278195488721806                    |\n",
      "|goth             |44.666666666666664                   |30.298076923076923                    |\n",
      "|ambient          |43.27220077220077                    |49.02040816326531                     |\n",
      "|acoustic         |42.333333333333336                   |39.235023041474655                    |\n",
      "+-----------------+-------------------------------------+--------------------------------------+\n",
      "only showing top 20 rows\n",
      "\n"
     ]
    },
    {
     "name": "stderr",
     "output_type": "stream",
     "text": [
      "                                                                                \r"
     ]
    }
   ],
   "source": [
    "vocal_light_pjesme = df.filter((F.col(\"acousticness\") > 0.8) & (F.col(\"instrumentalness\") > 0.8))\n",
    "vocal_heavy_pjesme = df.filter((F.col(\"acousticness\") <= 0.2) & (F.col(\"instrumentalness\") <= 0.2))\n",
    "\n",
    "# Prosjecna popularnost\n",
    "vocal_light_popularity = vocal_light_pjesme.groupBy(\"track_genre\").agg(F.avg(\"popularity\").alias(\"avg_popularnost_vokalno_lakih_zanrova\"))\n",
    "vocal_heavy_popularity = vocal_heavy_pjesme.groupBy(\"track_genre\").agg(F.avg(\"popularity\").alias(\"avg_popularnost_vokalno_teskih_zanrova\"))\n",
    "\n",
    "# Spajanje na osnovu zanra, outer - bice prisutne i vrijednosti koje se ne nalaze u nekoj grupi\n",
    "comp_res = vocal_light_popularity.join(\n",
    "    vocal_heavy_popularity, on=\"track_genre\", how=\"outer\"\n",
    ")\n",
    "\n",
    "comp_res.orderBy(F.desc(\"avg_popularnost_vokalno_lakih_zanrova\")).show(truncate=False)"
   ]
  },
  {
   "cell_type": "markdown",
   "metadata": {},
   "source": [
    "Zaključak na osnovu tabele: Za neke zanrove instrumentalni fokus utiče na uspjeh(indie-pop,blues,country...), a na neke ne(chill,electronic...)."
   ]
  },
  {
   "cell_type": "markdown",
   "metadata": {},
   "source": [
    "## Slaviša Čovakušić 1127/22"
   ]
  }
 ],
 "metadata": {
  "kernelspec": {
   "display_name": ".venv",
   "language": "python",
   "name": "python3"
  },
  "language_info": {
   "codemirror_mode": {
    "name": "ipython",
    "version": 3
   },
   "file_extension": ".py",
   "mimetype": "text/x-python",
   "name": "python",
   "nbconvert_exporter": "python",
   "pygments_lexer": "ipython3",
   "version": "3.12.3"
  }
 },
 "nbformat": 4,
 "nbformat_minor": 2
}
